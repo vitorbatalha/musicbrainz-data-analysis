{
 "cells": [
  {
   "cell_type": "markdown",
   "id": "28d0cd0c-34ab-4915-a3f7-0ccf056b22f3",
   "metadata": {},
   "source": [
    "# Uma análise dos meus álbuns favoritos\n",
    "## Coletando dados pelo MusicBrainz e analisando com python :)\n",
    "\n",
    "O objetivo desse repositório é aprender um pouco sobre Jupyter Notebook com um pequeno projeto. Peguei uma lista dos meus X álbuns favoritos, coletei os dados do website MusicBrainz utilizando a biblioteca musicbrainzngs (hyperlink), e fiz análises (detalhar análises) com os dados coletados."
   ]
  },
  {
   "cell_type": "code",
   "execution_count": null,
   "id": "f4294804-7050-4720-80cc-e49cf7035756",
   "metadata": {},
   "outputs": [],
   "source": []
  }
 ],
 "metadata": {
  "kernelspec": {
   "display_name": "Python 3 (ipykernel)",
   "language": "python",
   "name": "python3"
  },
  "language_info": {
   "codemirror_mode": {
    "name": "ipython",
    "version": 3
   },
   "file_extension": ".py",
   "mimetype": "text/x-python",
   "name": "python",
   "nbconvert_exporter": "python",
   "pygments_lexer": "ipython3",
   "version": "3.13.2"
  }
 },
 "nbformat": 4,
 "nbformat_minor": 5
}
